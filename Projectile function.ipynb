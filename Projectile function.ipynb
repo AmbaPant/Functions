{
 "cells": [
  {
   "cell_type": "code",
   "execution_count": 1,
   "metadata": {},
   "outputs": [],
   "source": [
    "import numpy as np\n",
    "import pandas as pd\n",
    "import matplotlib.pyplot as plt\n",
    "%matplotlib inline"
   ]
  },
  {
   "cell_type": "code",
   "execution_count": 16,
   "metadata": {},
   "outputs": [],
   "source": [
    "def projectile(u,theta):\n",
    "    g=9.8\n",
    "    R=u**2*np.sin(2*(np.pi*theta/180))/(2*g)\n",
    "    T=2*u*np.sin(np.pi*theta/180)/g\n",
    "    H=2*u*np.sin(np.pi*theta/180)/g\n",
    "    return [R,H,T]"
   ]
  },
  {
   "cell_type": "code",
   "execution_count": 24,
   "metadata": {},
   "outputs": [],
   "source": [
    "A=[]\n",
    "R=[]\n",
    "H=[]\n",
    "T=[]\n",
    "for i in range (1,91):\n",
    "    a=projectile(100,i)\n",
    "    A.append(i)\n",
    "    R.append(a[0])\n",
    "    H.append(a[1])\n",
    "    T.append(a[2])\n",
    "   "
   ]
  },
  {
   "cell_type": "code",
   "execution_count": 27,
   "metadata": {},
   "outputs": [],
   "source": [
    "data={}\n",
    "data.update({'Angle':A, 'Range':R, 'Time of Flight':T, 'Maximum Height': H})"
   ]
  },
  {
   "cell_type": "code",
   "execution_count": 28,
   "metadata": {},
   "outputs": [
    {
     "data": {
      "text/html": [
       "<div>\n",
       "<style scoped>\n",
       "    .dataframe tbody tr th:only-of-type {\n",
       "        vertical-align: middle;\n",
       "    }\n",
       "\n",
       "    .dataframe tbody tr th {\n",
       "        vertical-align: top;\n",
       "    }\n",
       "\n",
       "    .dataframe thead th {\n",
       "        text-align: right;\n",
       "    }\n",
       "</style>\n",
       "<table border=\"1\" class=\"dataframe\">\n",
       "  <thead>\n",
       "    <tr style=\"text-align: right;\">\n",
       "      <th></th>\n",
       "      <th>Angle</th>\n",
       "      <th>Range</th>\n",
       "      <th>Time of Flight</th>\n",
       "      <th>Maximum Height</th>\n",
       "    </tr>\n",
       "  </thead>\n",
       "  <tbody>\n",
       "    <tr>\n",
       "      <th>0</th>\n",
       "      <td>1</td>\n",
       "      <td>1.780587e+01</td>\n",
       "      <td>0.356172</td>\n",
       "      <td>0.356172</td>\n",
       "    </tr>\n",
       "    <tr>\n",
       "      <th>1</th>\n",
       "      <td>2</td>\n",
       "      <td>3.559004e+01</td>\n",
       "      <td>0.712235</td>\n",
       "      <td>0.712235</td>\n",
       "    </tr>\n",
       "    <tr>\n",
       "      <th>2</th>\n",
       "      <td>3</td>\n",
       "      <td>5.333085e+01</td>\n",
       "      <td>1.068081</td>\n",
       "      <td>1.068081</td>\n",
       "    </tr>\n",
       "    <tr>\n",
       "      <th>3</th>\n",
       "      <td>4</td>\n",
       "      <td>7.100668e+01</td>\n",
       "      <td>1.423602</td>\n",
       "      <td>1.423602</td>\n",
       "    </tr>\n",
       "    <tr>\n",
       "      <th>4</th>\n",
       "      <td>5</td>\n",
       "      <td>8.859601e+01</td>\n",
       "      <td>1.778689</td>\n",
       "      <td>1.778689</td>\n",
       "    </tr>\n",
       "    <tr>\n",
       "      <th>...</th>\n",
       "      <td>...</td>\n",
       "      <td>...</td>\n",
       "      <td>...</td>\n",
       "      <td>...</td>\n",
       "    </tr>\n",
       "    <tr>\n",
       "      <th>85</th>\n",
       "      <td>86</td>\n",
       "      <td>7.100668e+01</td>\n",
       "      <td>20.358450</td>\n",
       "      <td>20.358450</td>\n",
       "    </tr>\n",
       "    <tr>\n",
       "      <th>86</th>\n",
       "      <td>87</td>\n",
       "      <td>5.333085e+01</td>\n",
       "      <td>20.380195</td>\n",
       "      <td>20.380195</td>\n",
       "    </tr>\n",
       "    <tr>\n",
       "      <th>87</th>\n",
       "      <td>88</td>\n",
       "      <td>3.559004e+01</td>\n",
       "      <td>20.395731</td>\n",
       "      <td>20.395731</td>\n",
       "    </tr>\n",
       "    <tr>\n",
       "      <th>88</th>\n",
       "      <td>89</td>\n",
       "      <td>1.780587e+01</td>\n",
       "      <td>20.405055</td>\n",
       "      <td>20.405055</td>\n",
       "    </tr>\n",
       "    <tr>\n",
       "      <th>89</th>\n",
       "      <td>90</td>\n",
       "      <td>6.248198e-14</td>\n",
       "      <td>20.408163</td>\n",
       "      <td>20.408163</td>\n",
       "    </tr>\n",
       "  </tbody>\n",
       "</table>\n",
       "<p>90 rows × 4 columns</p>\n",
       "</div>"
      ],
      "text/plain": [
       "    Angle         Range  Time of Flight  Maximum Height\n",
       "0       1  1.780587e+01        0.356172        0.356172\n",
       "1       2  3.559004e+01        0.712235        0.712235\n",
       "2       3  5.333085e+01        1.068081        1.068081\n",
       "3       4  7.100668e+01        1.423602        1.423602\n",
       "4       5  8.859601e+01        1.778689        1.778689\n",
       "..    ...           ...             ...             ...\n",
       "85     86  7.100668e+01       20.358450       20.358450\n",
       "86     87  5.333085e+01       20.380195       20.380195\n",
       "87     88  3.559004e+01       20.395731       20.395731\n",
       "88     89  1.780587e+01       20.405055       20.405055\n",
       "89     90  6.248198e-14       20.408163       20.408163\n",
       "\n",
       "[90 rows x 4 columns]"
      ]
     },
     "execution_count": 28,
     "metadata": {},
     "output_type": "execute_result"
    }
   ],
   "source": [
    "Project=pd.DataFrame(data)\n",
    "Project"
   ]
  },
  {
   "cell_type": "code",
   "execution_count": 29,
   "metadata": {},
   "outputs": [],
   "source": [
    "Project.to_csv('projectile.csv')\n"
   ]
  },
  {
   "cell_type": "code",
   "execution_count": 36,
   "metadata": {},
   "outputs": [
    {
     "data": {
      "text/html": [
       "<div>\n",
       "<style scoped>\n",
       "    .dataframe tbody tr th:only-of-type {\n",
       "        vertical-align: middle;\n",
       "    }\n",
       "\n",
       "    .dataframe tbody tr th {\n",
       "        vertical-align: top;\n",
       "    }\n",
       "\n",
       "    .dataframe thead th {\n",
       "        text-align: right;\n",
       "    }\n",
       "</style>\n",
       "<table border=\"1\" class=\"dataframe\">\n",
       "  <thead>\n",
       "    <tr style=\"text-align: right;\">\n",
       "      <th></th>\n",
       "      <th>Unnamed: 0</th>\n",
       "      <th>Angle</th>\n",
       "      <th>Range</th>\n",
       "      <th>Time of Flight</th>\n",
       "      <th>Maximum Height</th>\n",
       "    </tr>\n",
       "  </thead>\n",
       "  <tbody>\n",
       "    <tr>\n",
       "      <th>0</th>\n",
       "      <td>0</td>\n",
       "      <td>1</td>\n",
       "      <td>17.805866</td>\n",
       "      <td>0.356172</td>\n",
       "      <td>0.356172</td>\n",
       "    </tr>\n",
       "    <tr>\n",
       "      <th>1</th>\n",
       "      <td>1</td>\n",
       "      <td>2</td>\n",
       "      <td>35.590038</td>\n",
       "      <td>0.712235</td>\n",
       "      <td>0.712235</td>\n",
       "    </tr>\n",
       "    <tr>\n",
       "      <th>2</th>\n",
       "      <td>2</td>\n",
       "      <td>3</td>\n",
       "      <td>53.330849</td>\n",
       "      <td>1.068081</td>\n",
       "      <td>1.068081</td>\n",
       "    </tr>\n",
       "    <tr>\n",
       "      <th>3</th>\n",
       "      <td>3</td>\n",
       "      <td>4</td>\n",
       "      <td>71.006684</td>\n",
       "      <td>1.423602</td>\n",
       "      <td>1.423602</td>\n",
       "    </tr>\n",
       "    <tr>\n",
       "      <th>4</th>\n",
       "      <td>4</td>\n",
       "      <td>5</td>\n",
       "      <td>88.596009</td>\n",
       "      <td>1.778689</td>\n",
       "      <td>1.778689</td>\n",
       "    </tr>\n",
       "  </tbody>\n",
       "</table>\n",
       "</div>"
      ],
      "text/plain": [
       "   Unnamed: 0  Angle      Range  Time of Flight  Maximum Height\n",
       "0           0      1  17.805866        0.356172        0.356172\n",
       "1           1      2  35.590038        0.712235        0.712235\n",
       "2           2      3  53.330849        1.068081        1.068081\n",
       "3           3      4  71.006684        1.423602        1.423602\n",
       "4           4      5  88.596009        1.778689        1.778689"
      ]
     },
     "execution_count": 36,
     "metadata": {},
     "output_type": "execute_result"
    }
   ],
   "source": [
    "pro=pd.read_csv('projectile.csv')\n",
    "pro.head()"
   ]
  },
  {
   "cell_type": "code",
   "execution_count": 66,
   "metadata": {},
   "outputs": [
    {
     "data": {
      "image/png": "[encoded data removed]",
      "text/plain": [
       "<Figure size 1080x576 with 1 Axes>"
      ]
     },
     "metadata": {
      "needs_background": "light"
     },
     "output_type": "display_data"
    }
   ],
   "source": [
    "plt.figure(figsize=(15,8))\n",
    "plt.plot(pro.Angle, pro.Range, '-', color='r', label='Range')\n",
    "plt.plot(pro.Angle, pro['Time of Flight'],'-',color='m',lw=3,label='Time of Flight')\n",
    "plt.plot(pro.Angle, pro['Maximum Height'],'-.',color='g',lw=3, label='Maximum Height')\n",
    "plt.legend(fontsize=20, loc='center')\n",
    "plt.xlabel('Angle of Projection(in Degree)', fontsize=20, color='b')\n",
    "plt.ylabel('Range, Maximum Height, Time of Flight', fontsize=20, color='b')\n",
    "plt.xticks(fontsize=20, color='r')\n",
    "plt.yticks(fontsize=20,color='r')\n",
    "plt.axvline(x=45,color='k',lw=3)\n",
    "plt.savefig('Projectile.jpg')"
   ]
  },
  {
   "cell_type": "code",
   "execution_count": null,
   "metadata": {},
   "outputs": [],
   "source": []
  }
 ],
 "metadata": {
  "kernelspec": {
   "display_name": "Python 3",
   "language": "python",
   "name": "python3"
  },
  "language_info": {
   "codemirror_mode": {
    "name": "ipython",
    "version": 3
   },
   "file_extension": ".py",
   "mimetype": "text/x-python",
   "name": "python",
   "nbconvert_exporter": "python",
   "pygments_lexer": "ipython3",
   "version": "3.7.6"
  }
 },
 "nbformat": 4,
 "nbformat_minor": 4
}
