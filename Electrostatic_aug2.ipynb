{
 "cells": [
  {
   "cell_type": "markdown",
   "metadata": {},
   "source": [
    "# Electrostatic functions "
   ]
  },
  {
   "cell_type": "markdown",
   "metadata": {},
   "source": [
    "- Electrostatic force between the charges $q_1$ & $q_2$ separated by distance $r$ is given by\n",
    "## $F=\\frac{Kq_1q_2}{r^2}$"
   ]
  },
  {
   "cell_type": "code",
   "execution_count": 1,
   "metadata": {},
   "outputs": [
    {
     "data": {
      "text/plain": [
       "9000000000.0"
      ]
     },
     "execution_count": 1,
     "metadata": {},
     "output_type": "execute_result"
    }
   ],
   "source": [
    "def force(q1,q2,r): \n",
    "    f=k*q1/r\n",
    "    return f\n",
    "k=9*10**9\n",
    "force(1,1,1) #when q1=1C, q2=1C and r=1m the force between q1 and q2 is:"
   ]
  },
  {
   "cell_type": "markdown",
   "metadata": {},
   "source": [
    "- Electrostatic Potential of charge $q_1$ at distance $r$\n",
    "## $V=\\frac{Kq_1}{r}$"
   ]
  },
  {
   "cell_type": "code",
   "execution_count": 2,
   "metadata": {},
   "outputs": [
    {
     "data": {
      "text/plain": [
       "9000000000.0"
      ]
     },
     "execution_count": 2,
     "metadata": {},
     "output_type": "execute_result"
    }
   ],
   "source": [
    "def potential(q1,r):\n",
    "    v=k*q1/r\n",
    "    return v\n",
    "k=9*10**9\n",
    "potential(1,1) # when q1-1c and r=1m the potential is:"
   ]
  },
  {
   "cell_type": "markdown",
   "metadata": {},
   "source": [
    "- Electric Field Intensity of charge $q_1$ at distance $r$ is:\n",
    "## $V=\\frac{Kq_1}{r^2}$"
   ]
  },
  {
   "cell_type": "code",
   "execution_count": 3,
   "metadata": {},
   "outputs": [
    {
     "data": {
      "text/plain": [
       "9000000000.0"
      ]
     },
     "execution_count": 3,
     "metadata": {},
     "output_type": "execute_result"
    }
   ],
   "source": [
    "def intensity(q1,r):\n",
    "    I=k*q1/r**2\n",
    "    return I\n",
    "k=9*10**9\n",
    "intensity(1,1) # when charge q1 = 1C and distance r = 1m, the intensity is:"
   ]
  },
  {
   "cell_type": "markdown",
   "metadata": {},
   "source": [
    "### Now, let us make a class of three functions \"Electrostatic\":"
   ]
  },
  {
   "cell_type": "code",
   "execution_count": 6,
   "metadata": {},
   "outputs": [],
   "source": [
    "class Electrostatic():\n",
    "    def __init__(self,value_k,info,info1,info2):\n",
    "        self.k=value_k\n",
    "        self.info=info\n",
    "        self.info1=info1\n",
    "        self.info2=info2\n",
    "    def force(self,q1,q2,r):\n",
    "        f=self.k*q1*q2/r**2\n",
    "        #print(self.give)\n",
    "        return f\n",
    "    def potential(self,q1,r):\n",
    "        v=self.k*q1/r\n",
    "        #print(self.info1)\n",
    "        return v\n",
    "    def intensity(self,q1,r):\n",
    "        I=self.k*q1/r**2\n",
    "        #print(self.info2)\n",
    "        return I\n",
    "E1=Electrostatic(value_k=9*10**9,info='This is coulomb force',info1='This is coulomb potential',info2='This is intensity' )\n",
    "#E.force(1,1,1),E.potential(1,1),E.intensity(1,1)"
   ]
  },
  {
   "cell_type": "code",
   "execution_count": 7,
   "metadata": {},
   "outputs": [],
   "source": [
    "q1=3.2*10**-16 #let us fix the charge q1\n",
    "q2=3.2*10**-10 #fix another charge q2 \n",
    "R=[]  #empty list of distance\n",
    "F=[]  #empty list of force\n",
    "V=[]  #empty list of potential\n",
    "E=[]  #empty list of intensity\n",
    "for r in range(1,10000): #taking the calue of distance from 1 to 1000\n",
    "    ff=E1.force(q1,q2,r) \n",
    "    vv=E1.potential(q1,r)\n",
    "    ee=E1.intensity(q1,r)\n",
    "    R.append(r)\n",
    "    F.append(ff)\n",
    "    V.append(vv)\n",
    "    E.append(ee)\n",
    "#print(R,F,V,E)\n",
    "    "
   ]
  },
  {
   "cell_type": "markdown",
   "metadata": {},
   "source": [
    "- Create a dictionary of above created list"
   ]
  },
  {
   "cell_type": "code",
   "execution_count": 8,
   "metadata": {},
   "outputs": [],
   "source": [
    "data={} #create an empty list\n",
    "data.update({\"Distance\":R, \"Force\":F, \"Potential\":V, \"Intensity\":E}) #update above information with Rename\n",
    "#print(data) "
   ]
  },
  {
   "cell_type": "markdown",
   "metadata": {},
   "source": [
    "- Convert dictionary to DataFrame"
   ]
  },
  {
   "cell_type": "code",
   "execution_count": 9,
   "metadata": {},
   "outputs": [],
   "source": [
    "import pandas as pd\n",
    "DF=pd.DataFrame(data)  \n",
    "#print(DF)"
   ]
  },
  {
   "cell_type": "markdown",
   "metadata": {},
   "source": [
    "- Save DataFrame in csv (comma separated variable) Excel file"
   ]
  },
  {
   "cell_type": "code",
   "execution_count": 10,
   "metadata": {},
   "outputs": [],
   "source": [
    "DF.to_csv('Electrostatic_variable.csv')"
   ]
  },
  {
   "cell_type": "markdown",
   "metadata": {},
   "source": [
    "- Read and Open the csv file from computer by jupyter notebook"
   ]
  },
  {
   "cell_type": "code",
   "execution_count": 12,
   "metadata": {},
   "outputs": [
    {
     "data": {
      "text/html": [
       "<div>\n",
       "<style scoped>\n",
       "    .dataframe tbody tr th:only-of-type {\n",
       "        vertical-align: middle;\n",
       "    }\n",
       "\n",
       "    .dataframe tbody tr th {\n",
       "        vertical-align: top;\n",
       "    }\n",
       "\n",
       "    .dataframe thead th {\n",
       "        text-align: right;\n",
       "    }\n",
       "</style>\n",
       "<table border=\"1\" class=\"dataframe\">\n",
       "  <thead>\n",
       "    <tr style=\"text-align: right;\">\n",
       "      <th></th>\n",
       "      <th>Unnamed: 0</th>\n",
       "      <th>Distance</th>\n",
       "      <th>Force</th>\n",
       "      <th>Potential</th>\n",
       "      <th>Intensity</th>\n",
       "    </tr>\n",
       "  </thead>\n",
       "  <tbody>\n",
       "    <tr>\n",
       "      <th>0</th>\n",
       "      <td>0</td>\n",
       "      <td>1</td>\n",
       "      <td>9.216000e-16</td>\n",
       "      <td>2.880000e-06</td>\n",
       "      <td>2.880000e-06</td>\n",
       "    </tr>\n",
       "    <tr>\n",
       "      <th>1</th>\n",
       "      <td>1</td>\n",
       "      <td>2</td>\n",
       "      <td>2.304000e-16</td>\n",
       "      <td>1.440000e-06</td>\n",
       "      <td>7.200000e-07</td>\n",
       "    </tr>\n",
       "    <tr>\n",
       "      <th>2</th>\n",
       "      <td>2</td>\n",
       "      <td>3</td>\n",
       "      <td>1.024000e-16</td>\n",
       "      <td>9.600000e-07</td>\n",
       "      <td>3.200000e-07</td>\n",
       "    </tr>\n",
       "    <tr>\n",
       "      <th>3</th>\n",
       "      <td>3</td>\n",
       "      <td>4</td>\n",
       "      <td>5.760000e-17</td>\n",
       "      <td>7.200000e-07</td>\n",
       "      <td>1.800000e-07</td>\n",
       "    </tr>\n",
       "    <tr>\n",
       "      <th>4</th>\n",
       "      <td>4</td>\n",
       "      <td>5</td>\n",
       "      <td>3.686400e-17</td>\n",
       "      <td>5.760000e-07</td>\n",
       "      <td>1.152000e-07</td>\n",
       "    </tr>\n",
       "  </tbody>\n",
       "</table>\n",
       "</div>"
      ],
      "text/plain": [
       "   Unnamed: 0  Distance         Force     Potential     Intensity\n",
       "0           0         1  9.216000e-16  2.880000e-06  2.880000e-06\n",
       "1           1         2  2.304000e-16  1.440000e-06  7.200000e-07\n",
       "2           2         3  1.024000e-16  9.600000e-07  3.200000e-07\n",
       "3           3         4  5.760000e-17  7.200000e-07  1.800000e-07\n",
       "4           4         5  3.686400e-17  5.760000e-07  1.152000e-07"
      ]
     },
     "execution_count": 12,
     "metadata": {},
     "output_type": "execute_result"
    }
   ],
   "source": [
    "df=pd.read_csv('Electrostatic_variable.csv')\n",
    "df.head() #head mean title eg; distance, Force, Potential, ..."
   ]
  },
  {
   "cell_type": "markdown",
   "metadata": {},
   "source": [
    "- Make a plot between variables in  columns in csv file"
   ]
  },
  {
   "cell_type": "code",
   "execution_count": 14,
   "metadata": {},
   "outputs": [],
   "source": [
    "import matplotlib.pyplot as plt\n",
    "%matplotlib inline"
   ]
  },
  {
   "cell_type": "code",
   "execution_count": 15,
   "metadata": {},
   "outputs": [
    {
     "data": {
      "image/png": "[encoded data removed]",
      "text/plain": [
       "<Figure size 432x288 with 1 Axes>"
      ]
     },
     "metadata": {
      "needs_background": "light"
     },
     "output_type": "display_data"
    }
   ],
   "source": [
    "#plt.figure(figsize=(10,10))\n",
    "plt.plot(df.Distance,df.Force,'o',color='r',label='force',lw=1) #lw= line width\n",
    "plt.plot(df.Distance,df.Potential,'.',color='g',label='potential',lw=1)\n",
    "plt.plot(df.Distance,df.Intensity,'-.',color='b',label='intensity',lw=1)\n",
    "plt.xlabel(\"Distance(m)\")\n",
    "plt.ylabel(\"Force(N), Potential(V), Intensity(N/m^2)\")\n",
    "plt.grid(True)"
   ]
  },
  {
   "cell_type": "markdown",
   "metadata": {},
   "source": [
    "This graph doesnot gives better vizualization for the variation of electrostatic functions with distance. Also, there is no clear difference for variation of force, potential and intensity with distance. For the better vizualization we need semilog or loglog plot. Log - log and semi - log plot are done if the range of variation of data is wide."
   ]
  },
  {
   "cell_type": "markdown",
   "metadata": {},
   "source": [
    "## Semi - Log Plot\n",
    "In semi - log plot, variable in one axis is in mog scale and variable in other axis is left as it is. In the following semi - log plot, the variable in y axis (i.e., force, potential and intensity) are plotted in log scale and distance is left as it is. Which can be seen in the plot below;"
   ]
  },
  {
   "cell_type": "code",
   "execution_count": 16,
   "metadata": {},
   "outputs": [
    {
     "data": {
      "image/png": "[encoded data removed]",
      "text/plain": [
       "<Figure size 432x288 with 1 Axes>"
      ]
     },
     "metadata": {
      "needs_background": "light"
     },
     "output_type": "display_data"
    }
   ],
   "source": [
    "plt.semilogy(df.Distance,df.Force,label='force')\n",
    "plt.semilogy(df.Distance,df.Potential,label='potential')\n",
    "plt.semilogy(df.Distance,df.Intensity,label='intensity')\n",
    "plt.xlabel(\"Distance(m)\")\n",
    "plt.ylabel(\"log(F), log(V), log(E)\")\n",
    "plt.legend()\n",
    "plt.grid(True)"
   ]
  },
  {
   "cell_type": "markdown",
   "metadata": {},
   "source": [
    "## Log - Log Plot\n",
    "In log - log plot, variable in both axis are in log scale. It helps for better visualization in every point of graph, more than semi - log plot. Which can be seen in the plot below;"
   ]
  },
  {
   "cell_type": "code",
   "execution_count": 17,
   "metadata": {},
   "outputs": [
    {
     "data": {
      "image/png": "[encoded data removed]",
      "text/plain": [
       "<Figure size 432x288 with 1 Axes>"
      ]
     },
     "metadata": {
      "needs_background": "light"
     },
     "output_type": "display_data"
    }
   ],
   "source": [
    "plt.loglog(df.Distance,df.Force,label='force')\n",
    "plt.loglog(df.Distance,df.Potential,label='potential')\n",
    "plt.loglog(df.Distance,df.Intensity,label='intensity')\n",
    "plt.xlabel(\"log(R)\",fontsize=16)\n",
    "plt.ylabel(\"log(F), log(V), log(E)\",fontsize=16)\n",
    "plt.legend(loc='center',fontsize=16)\n",
    "plt.grid(True)"
   ]
  },
  {
   "cell_type": "code",
   "execution_count": null,
   "metadata": {},
   "outputs": [],
   "source": []
  }
 ],
 "metadata": {
  "kernelspec": {
   "display_name": "Python 3",
   "language": "python",
   "name": "python3"
  },
  "language_info": {
   "codemirror_mode": {
    "name": "ipython",
    "version": 3
   },
   "file_extension": ".py",
   "mimetype": "text/x-python",
   "name": "python",
   "nbconvert_exporter": "python",
   "pygments_lexer": "ipython3",
   "version": "3.7.6"
  }
 },
 "nbformat": 4,
 "nbformat_minor": 4
}
