{
 "cells": [
  {
   "cell_type": "markdown",
   "metadata": {},
   "source": [
    "# Gravity VS Electrostatic Force\n",
    "## Gravitational Force\n",
    "# $ F_G=\\frac{Gm_1m_2}{d^2}   $\n",
    "## Electrostatic Force\n",
    "# $ F_E =\\frac{kq_1q_2}{r^2}    $\n",
    "![img](hydrogen.jpg)\n",
    "![img](elg.jpg)\n"
   ]
  },
  {
   "cell_type": "code",
   "execution_count": 1,
   "metadata": {},
   "outputs": [],
   "source": [
    "def gravity(r,m1, m2):\n",
    "    G=6.67*10**-11\n",
    "    F=G*m1*m2/r**2\n",
    "    return F"
   ]
  },
  {
   "cell_type": "code",
   "execution_count": 2,
   "metadata": {},
   "outputs": [
    {
     "data": {
      "text/plain": [
       "3.335e-07"
      ]
     },
     "execution_count": 2,
     "metadata": {},
     "output_type": "execute_result"
    }
   ],
   "source": [
    "gravity(2,100,200)"
   ]
  },
  {
   "cell_type": "code",
   "execution_count": 3,
   "metadata": {},
   "outputs": [],
   "source": [
    "def ele(r,q1,q2):\n",
    "    k=9*10**9\n",
    "    Fe=k*q1*q2/r**2\n",
    "    return Fe"
   ]
  },
  {
   "cell_type": "markdown",
   "metadata": {},
   "source": [
    "# Gravitational force between Earth and Sun "
   ]
  },
  {
   "cell_type": "code",
   "execution_count": 4,
   "metadata": {},
   "outputs": [
    {
     "data": {
      "text/plain": [
       "3.5573333333333336e+22"
      ]
     },
     "execution_count": 4,
     "metadata": {},
     "output_type": "execute_result"
    }
   ],
   "source": [
    "gravity(1.5*10**11, 6*10**24, 2*10**30) #gravity(distance between sun and earth, mass of earth, mass of sun)"
   ]
  },
  {
   "cell_type": "markdown",
   "metadata": {},
   "source": [
    "### Electrostatic force in first orbit of electron in Hydrogen atom "
   ]
  },
  {
   "cell_type": "code",
   "execution_count": 9,
   "metadata": {},
   "outputs": [
    {
     "data": {
      "text/plain": [
       "6.618787704682564e-08"
      ]
     },
     "execution_count": 9,
     "metadata": {},
     "output_type": "execute_result"
    }
   ],
   "source": [
    "ele(0.59*10**-10, 1.6*10**-19, 1.6*10**-19) # ele(radius of first orbit or distance between proton and electron, charge of electron, charge of proton)"
   ]
  },
  {
   "cell_type": "code",
   "execution_count": null,
   "metadata": {},
   "outputs": [],
   "source": [
    "gravity(0.59*10**-10, 9.1*10**-31, 1.67*10**-27) #gravity(distance between proton and electron, mass of electron, mass of proton)"
   ]
  },
  {
   "cell_type": "markdown",
   "metadata": {},
   "source": [
    "### Ratio of Electrostatic and Gravitational force between Proton and Electron in Hydrogen atom"
   ]
  },
  {
   "cell_type": "code",
   "execution_count": null,
   "metadata": {},
   "outputs": [],
   "source": [
    "FE=ele(0.59*10**-10, 1.6*10**-19, 1.6*10**-19)  # electrostatic force defined by function ele(r,q1,q2)"
   ]
  },
  {
   "cell_type": "code",
   "execution_count": 6,
   "metadata": {},
   "outputs": [],
   "source": [
    "FG=gravity(0.59*10**-10, 9.1*10**-31, 1.67*10**-27) # gravitationalforce defined by function gravity(r,m1,m1)"
   ]
  },
  {
   "cell_type": "code",
   "execution_count": 7,
   "metadata": {},
   "outputs": [
    {
     "data": {
      "text/plain": [
       "2.2729965542990175e+39"
      ]
     },
     "execution_count": 7,
     "metadata": {},
     "output_type": "execute_result"
    }
   ],
   "source": [
    "FE/FG # ration of electrostatic and gravitational force"
   ]
  },
  {
   "cell_type": "markdown",
   "metadata": {},
   "source": [
    "### Calculation of gravitational force without function "
   ]
  },
  {
   "cell_type": "code",
   "execution_count": 10,
   "metadata": {},
   "outputs": [
    {
     "name": "stdout",
     "output_type": "stream",
     "text": [
      "6.67e-11\n"
     ]
    }
   ],
   "source": [
    "G=6.67*10**-11\n",
    "m1=1\n",
    "m2=1\n",
    "r=1\n",
    "F=(G*m1*m2)/r**2\n",
    "print(F)"
   ]
  },
  {
   "cell_type": "code",
   "execution_count": null,
   "metadata": {},
   "outputs": [],
   "source": []
  }
 ],
 "metadata": {
  "kernelspec": {
   "display_name": "Python 3",
   "language": "python",
   "name": "python3"
  },
  "language_info": {
   "codemirror_mode": {
    "name": "ipython",
    "version": 3
   },
   "file_extension": ".py",
   "mimetype": "text/x-python",
   "name": "python",
   "nbconvert_exporter": "python",
   "pygments_lexer": "ipython3",
   "version": "3.7.6"
  }
 },
 "nbformat": 4,
 "nbformat_minor": 4
}
